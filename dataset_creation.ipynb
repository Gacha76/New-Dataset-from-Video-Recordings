{
 "cells": [
  {
   "cell_type": "code",
   "execution_count": null,
   "metadata": {},
   "outputs": [
    {
     "data": {
      "text/plain": [
       "['abhi1.mp4', 'abhi2.mp4', 'abhi3.mp4', 'abhi4.mp4', 'tn1.mp4', 'tn2.mp4']"
      ]
     },
     "execution_count": 2,
     "metadata": {},
     "output_type": "execute_result"
    }
   ],
   "source": [
    "import os\n",
    "\n",
    "all_videos = os.listdir('videos')\n",
    "all_videos"
   ]
  },
  {
   "cell_type": "code",
   "execution_count": null,
   "metadata": {},
   "outputs": [],
   "source": [
    "for video in all_videos:\n",
    "    video = video.split('.mp4')[0]\n",
    "    \n",
    "    if not os.path.exists(f'frames/{video}'):\n",
    "        os.makedirs(f'frames/{video}', exist_ok=True)"
   ]
  },
  {
   "cell_type": "code",
   "execution_count": 23,
   "metadata": {},
   "outputs": [
    {
     "name": "stdout",
     "output_type": "stream",
     "text": [
      "Processing abhi1.mp4 of 1075 frames to frames/abhi1/ ...\n",
      "Processing abhi2.mp4 of 3125 frames to frames/abhi2/ ...\n",
      "Processing abhi3.mp4 of 1105 frames to frames/abhi3/ ...\n",
      "Processing abhi4.mp4 of 3721 frames to frames/abhi4/ ...\n",
      "Processing tn1.mp4 of 3797 frames to frames/tn1/ ...\n",
      "Processing tn2.mp4 of 4204 frames to frames/tn2/ ...\n"
     ]
    }
   ],
   "source": [
    "import cv2\n",
    "\n",
    "for video in all_videos:\n",
    "    count = 0\n",
    "    cap = cv2.VideoCapture(f'videos/{video}')\n",
    "    length = int(cap.get(cv2.CAP_PROP_FRAME_COUNT))\n",
    "    outPath = f\"frames/{video.split('.mp4')[0]}/\"\n",
    "\n",
    "    print(f\"Processing {video} of {length} frames to {outPath} ...\")\n",
    "\n",
    "    while cap.isOpened():\n",
    "        ret, frame = cap.read()\n",
    "\n",
    "        if not ret:\n",
    "            break\n",
    "\n",
    "        cv2.imwrite(filename=outPath + f'frame_{count:06d}.png', img=frame)\n",
    "        count += 1\n",
    "\n",
    "    cap.release()\n",
    "\n",
    "    assert len(os.listdir(outPath)) == length, f\"Mismatch of number of frames and annotations for {video}\""
   ]
  },
  {
   "cell_type": "code",
   "execution_count": 27,
   "metadata": {},
   "outputs": [],
   "source": [
    "frames_folders = os.listdir('frames')\n",
    "\n",
    "for folder in frames_folders:\n",
    "    all_frames = os.listdir(f'frames/{folder}')\n",
    "\n",
    "    for frame in all_frames:\n",
    "        os.rename(src=f'frames/{folder}/{frame}', dst=f'frames/{folder}/{folder}_{frame}')"
   ]
  },
  {
   "cell_type": "code",
   "execution_count": 28,
   "metadata": {},
   "outputs": [],
   "source": [
    "all_labels_folders = os.listdir('all_labels')\n",
    "\n",
    "for folder in all_labels_folders:\n",
    "    all_text_files = os.listdir(f'all_labels/{folder}/labels/train')\n",
    "\n",
    "    for text_file in all_text_files:\n",
    "        os.rename(src=f'all_labels/{folder}/labels/train/{text_file}', dst=f'all_labels/{folder}/labels/train/{folder}_{text_file}')"
   ]
  },
  {
   "cell_type": "code",
   "execution_count": 30,
   "metadata": {},
   "outputs": [],
   "source": [
    "all_labels_folders = os.listdir('all_labels')\n",
    "\n",
    "for folder in all_labels_folders:\n",
    "    all_text_files = os.listdir(f'all_labels/{folder}/labels/train')\n",
    "\n",
    "    for text_file in all_text_files:\n",
    "        os.rename(src=f'all_labels/{folder}/labels/train/{text_file}', dst=f'labels/labels/{text_file}')"
   ]
  },
  {
   "cell_type": "code",
   "execution_count": 31,
   "metadata": {},
   "outputs": [],
   "source": [
    "frames_folders = os.listdir('frames')\n",
    "\n",
    "for folder in frames_folders:\n",
    "    all_frames = os.listdir(f'frames/{folder}')\n",
    "\n",
    "    for frame in all_frames:\n",
    "        os.rename(src=f'frames/{folder}/{frame}', dst=f'images/{frame}')"
   ]
  },
  {
   "cell_type": "code",
   "execution_count": null,
   "metadata": {},
   "outputs": [],
   "source": []
  }
 ],
 "metadata": {
  "kernelspec": {
   "display_name": "PyTorch",
   "language": "python",
   "name": "python3"
  },
  "language_info": {
   "codemirror_mode": {
    "name": "ipython",
    "version": 3
   },
   "file_extension": ".py",
   "mimetype": "text/x-python",
   "name": "python",
   "nbconvert_exporter": "python",
   "pygments_lexer": "ipython3",
   "version": "3.11.6"
  }
 },
 "nbformat": 4,
 "nbformat_minor": 2
}
